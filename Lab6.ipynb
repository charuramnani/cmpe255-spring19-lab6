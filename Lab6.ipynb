{
 "cells": [
  {
   "cell_type": "code",
   "execution_count": 22,
   "metadata": {},
   "outputs": [],
   "source": [
    "import numpy as np\n",
    "Age = np.array([16-19,20-24,25-34,35-54,55-74,75-85])"
   ]
  },
  {
   "cell_type": "code",
   "execution_count": 24,
   "metadata": {},
   "outputs": [
    {
     "name": "stdout",
     "output_type": "stream",
     "text": [
      "[[16 19]\n",
      " [20 24]\n",
      " [25 34]\n",
      " [35 54]\n",
      " [55 74]\n",
      " [75 85]]\n"
     ]
    }
   ],
   "source": [
    "age = np.array([[16,19],[20,24],[25,34],[35,54],[55,74],[75,85]])\n",
    "print(age)"
   ]
  },
  {
   "cell_type": "code",
   "execution_count": 25,
   "metadata": {},
   "outputs": [],
   "source": [
    "med1=np.median([16,19])\n",
    "med2=np.median([20,24])\n",
    "med3=np.median([25,34])\n",
    "med4=np.median([35,54])\n",
    "med5=np.median([55,74])\n",
    "med6=np.median([75,85])\n"
   ]
  },
  {
   "cell_type": "code",
   "execution_count": 26,
   "metadata": {},
   "outputs": [
    {
     "name": "stdout",
     "output_type": "stream",
     "text": [
      "[[17.5]\n",
      " [22. ]\n",
      " [29.5]\n",
      " [44.5]\n",
      " [64.5]\n",
      " [80. ]]\n"
     ]
    }
   ],
   "source": [
    "print(np.array([[med1],[med2], [med3], [med4], [med5], [med6]]))\n"
   ]
  },
  {
   "cell_type": "code",
   "execution_count": 27,
   "metadata": {},
   "outputs": [],
   "source": [
    "import matplotlib.pyplot as plt"
   ]
  },
  {
   "cell_type": "code",
   "execution_count": 28,
   "metadata": {},
   "outputs": [
    {
     "name": "stdout",
     "output_type": "stream",
     "text": [
      "[[17.5 38. ]\n",
      " [22.  36. ]\n",
      " [29.5 24. ]\n",
      " [44.5 20. ]\n",
      " [64.5 18. ]\n",
      " [80.  28. ]]\n"
     ]
    }
   ],
   "source": [
    "graph_pop=np.array([[med1,38],[med2,36],[med3,24],[med4,20],[med5,18],[med6,28]])\n",
    "print(graph_pop)"
   ]
  },
  {
   "cell_type": "code",
   "execution_count": 34,
   "metadata": {},
   "outputs": [
    {
     "data": {
      "image/png": "[encoded data removed]",
      "text/plain": [
       "<Figure size 432x288 with 1 Axes>"
      ]
     },
     "metadata": {
      "needs_background": "light"
     },
     "output_type": "display_data"
    }
   ],
   "source": [
    "x= [med1,med2,med3,med4,med5,med6]\n",
    "y = [38,36,24,20,18,28]\n",
    "plt.scatter(x,y)\n",
    "plt.show()"
   ]
  },
  {
   "cell_type": "code",
   "execution_count": 31,
   "metadata": {},
   "outputs": [
    {
     "data": {
      "text/plain": [
       "LinregressResult(slope=-0.19182491149018346, intercept=35.58180452741122, rvalue=-0.5787437075660629, pvalue=0.22880788559284737, stderr=0.135150527627138)"
      ]
     },
     "execution_count": 31,
     "metadata": {},
     "output_type": "execute_result"
    }
   ],
   "source": [
    "from scipy.stats import linregress\n",
    "\n",
    "linregress(x,y)"
   ]
  },
  {
   "cell_type": "code",
   "execution_count": 4,
   "metadata": {},
   "outputs": [],
   "source": [
    "import numpy as np\n",
    "from scipy import stats\n",
    "med1=np.median([16,19])\n",
    "med2=np.median([20,24])\n",
    "med3=np.median([25,34])\n",
    "med4=np.median([35,54])\n",
    "med5=np.median([55,74])\n",
    "med6=np.median([75,85])\n",
    "x= [med1,med2,med3,med4,med5,med6]\n",
    "y = [38,36,24,20,18,28]\n",
    "slope, intercept, r_value, p_value, std_err = stats.linregress(x,y)"
   ]
  },
  {
   "cell_type": "code",
   "execution_count": 5,
   "metadata": {},
   "outputs": [
    {
     "name": "stdout",
     "output_type": "stream",
     "text": [
      "-0.19182491149018324\n"
     ]
    }
   ],
   "source": [
    "from statistics import mean\n",
    "import numpy as np\n",
    "\n",
    "xs = np.array([med1,med2,med3,med4,med5,med6], dtype=np.float64)\n",
    "ys = np.array([38,36,24,20,18,28], dtype=np.float64)\n",
    "\n",
    "def best_fit_slope(xs,ys):\n",
    "    m = (((mean(xs)*mean(ys)) - mean(xs*ys)) /\n",
    "         ((mean(xs)*mean(xs)) - mean(xs*xs)))\n",
    "    return m\n",
    "\n",
    "m = best_fit_slope(xs,ys)\n",
    "print(m)"
   ]
  },
  {
   "cell_type": "code",
   "execution_count": 15,
   "metadata": {},
   "outputs": [
    {
     "name": "stdout",
     "output_type": "stream",
     "text": [
      "35.58180452741121\n"
     ]
    }
   ],
   "source": [
    "def best_fit_slope_and_intercept(xs,ys):\n",
    "    m = (((mean(xs)*mean(ys)) - mean(xs*ys)) /\n",
    "         ((mean(xs)*mean(xs)) - mean(xs*xs)))\n",
    "    \n",
    "b = mean(ys) - m*mean(xs)\n",
    "    \n",
    "print(b)"
   ]
  },
  {
   "cell_type": "code",
   "execution_count": 18,
   "metadata": {},
   "outputs": [
    {
     "name": "stdout",
     "output_type": "stream",
     "text": [
      "ŷ = 35.58-0.19x\n"
     ]
    }
   ],
   "source": [
    "print(\"ŷ = 35.58-0.19x\")"
   ]
  },
  {
   "cell_type": "code",
   "execution_count": null,
   "metadata": {},
   "outputs": [],
   "source": [
    "if age = 40, ŷ (deaths) = 35.5818045 – 0.19182491(40) = 27.9\n",
    "if age = 60, ŷ (deaths) = 35.5818045 – 0.19182491(60) = 24.1"
   ]
  },
  {
   "cell_type": "code",
   "execution_count": null,
   "metadata": {},
   "outputs": [],
   "source": [
    "For entire dataset, there is a linear relationship for the ages up to age 74. The\n",
    "oldest age group shows an increase in deaths from the prior group, which is not\n",
    "consistent with the younger ages"
   ]
  },
  {
   "cell_type": "code",
   "execution_count": 19,
   "metadata": {},
   "outputs": [
    {
     "data": {
      "text/plain": [
       "-0.5787437075660627"
      ]
     },
     "execution_count": 19,
     "metadata": {},
     "output_type": "execute_result"
    }
   ],
   "source": [
    "import numpy\n",
    "x= [med1,med2,med3,med4,med5,med6]\n",
    "y = [38,36,24,20,18,28]\n",
    "numpy.corrcoef(x, y)[0, 1]"
   ]
  },
  {
   "cell_type": "code",
   "execution_count": null,
   "metadata": {},
   "outputs": [],
   "source": [
    "r = –0.57874\n",
    "For four df and alpha = 0.05, the LinRegTTest gives p-value = 0.2288 so we do\n",
    "not reject the null hypothesis; there is not a significant linear relationship\n",
    "between deaths and age.\n",
    "Using the table of critical values for the correlation coefficient, with four df,\n",
    "the critical value is 0.811. The correlation coefficient r = -0.57874 is not less\n",
    "than -0.811, so we do not reject the null hypothesis"
   ]
  }
 ],
 "metadata": {
  "kernelspec": {
   "display_name": "Python 3",
   "language": "python",
   "name": "python3"
  },
  "language_info": {
   "codemirror_mode": {
    "name": "ipython",
    "version": 3
   },
   "file_extension": ".py",
   "mimetype": "text/x-python",
   "name": "python",
   "nbconvert_exporter": "python",
   "pygments_lexer": "ipython3",
   "version": "3.6.8"
  }
 },
 "nbformat": 4,
 "nbformat_minor": 2
}
